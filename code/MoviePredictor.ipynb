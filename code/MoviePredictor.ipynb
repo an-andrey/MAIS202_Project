{
  "nbformat": 4,
  "nbformat_minor": 0,
  "metadata": {
    "colab": {
      "provenance": [],
      "authorship_tag": "ABX9TyPmQsbBTKehIZpbL9jXW6vN",
      "include_colab_link": true
    },
    "kernelspec": {
      "name": "python3",
      "display_name": "Python 3"
    },
    "language_info": {
      "name": "python"
    }
  },
  "cells": [
    {
      "cell_type": "markdown",
      "metadata": {
        "id": "view-in-github",
        "colab_type": "text"
      },
      "source": [
        "<a href=\"https://colab.research.google.com/github/an-andrey/MAIS202_Project/blob/main/code/MoviePredictor.ipynb\" target=\"_parent\"><img src=\"https://colab.research.google.com/assets/colab-badge.svg\" alt=\"Open In Colab\"/></a>"
      ]
    },
    {
      "cell_type": "markdown",
      "source": [
        "#Data Pre-Processing"
      ],
      "metadata": {
        "id": "pFAUWMAb8Rmx"
      }
    },
    {
      "cell_type": "markdown",
      "source": [
        "Make sure to install"
      ],
      "metadata": {
        "id": "nZvolQn8K0om"
      }
    },
    {
      "cell_type": "code",
      "source": [
        "#installing surprise package for the built-in datasets\n",
        "!pip install scikit-surprise"
      ],
      "metadata": {
        "colab": {
          "base_uri": "https://localhost:8080/"
        },
        "id": "gBNU_kun9Sxs",
        "outputId": "debd07bb-727e-431f-b0ba-c8f2823847e7"
      },
      "execution_count": null,
      "outputs": [
        {
          "output_type": "stream",
          "name": "stdout",
          "text": [
            "Requirement already satisfied: scikit-surprise in /usr/local/lib/python3.10/dist-packages (1.1.4)\n",
            "Requirement already satisfied: joblib>=1.2.0 in /usr/local/lib/python3.10/dist-packages (from scikit-surprise) (1.4.2)\n",
            "Requirement already satisfied: numpy>=1.19.5 in /usr/local/lib/python3.10/dist-packages (from scikit-surprise) (1.26.4)\n",
            "Requirement already satisfied: scipy>=1.6.0 in /usr/local/lib/python3.10/dist-packages (from scikit-surprise) (1.13.1)\n"
          ]
        }
      ]
    },
    {
      "cell_type": "code",
      "source": [
        "import pandas as pd\n",
        "from surprise import Dataset, Reader\n",
        "import numpy as np\n",
        "\n",
        "raw_ratings = \"https://raw.githubusercontent.com/an-andrey/MAIS202_Project/refs/heads/main/Movielens100k/ratings.csv\"\n",
        "raw_movies = \"https://raw.githubusercontent.com/an-andrey/MAIS202_Project/refs/heads/main/Movielens100k/movies.csv\"\n",
        "\n",
        "#importing the Movie Lens dataset\n",
        "ratings = pd.read_csv(raw_ratings)\n",
        "movies = pd.read_csv(raw_movies)\n",
        "\n",
        "#extracting the release year from the title to get it as a separate column\n",
        "movies[\"release_year\"] = movies[\"title\"].str.extract(r'\\((\\d{4})\\)')\n",
        "\n",
        "#separating the ratings into 5 chunks in order to do cross validation\n",
        "ratings_chunks = np.array_split(ratings, 5)\n",
        "\n",
        "#setting up the reader for surprise to know the range of ratings\n",
        "reader = Reader(rating_scale=(1, 5))\n",
        "\n",
        "data_chunks = []\n",
        "for chunk in ratings_chunks:\n",
        "    # Creating raw data for each chunk that can be read by surprise separately\n",
        "    data_chunks.append(Dataset.load_from_df(chunk[['userId', 'movieId', 'rating']], reader))"
      ],
      "metadata": {
        "colab": {
          "base_uri": "https://localhost:8080/"
        },
        "id": "CHzkIRRQ8XyQ",
        "outputId": "567a69b9-3922-4497-87e8-00f82747abf8"
      },
      "execution_count": null,
      "outputs": [
        {
          "output_type": "stream",
          "name": "stderr",
          "text": [
            "/usr/local/lib/python3.10/dist-packages/numpy/core/fromnumeric.py:59: FutureWarning: 'DataFrame.swapaxes' is deprecated and will be removed in a future version. Please use 'DataFrame.transpose' instead.\n",
            "  return bound(*args, **kwds)\n"
          ]
        }
      ]
    },
    {
      "cell_type": "markdown",
      "source": [
        "#Prediction Algorithm"
      ],
      "metadata": {
        "id": "DKWMzNFCEDeC"
      }
    },
    {
      "cell_type": "code",
      "source": [
        "from surprise import KNNWithMeans, Dataset\n",
        "from surprise.model_selection import GridSearchCV, cross_validate\n",
        "import joblib\n",
        "import pickle\n",
        "\n",
        "# Define the parameter grid for GridSearchCV\n",
        "sim_options = {\n",
        "    \"name\": [\"msd\"],\n",
        "    \"min_support\": [2],\n",
        "    \"user_based\": [True],\n",
        "}\n",
        "\n",
        "#for now, these were the best options for a score of about 0.90, have to iterate more to find the best hyper-parameters\n",
        "{'sim_options': {'name': 'msd', 'min_support': 2, 'user_based': True}}\n",
        "\n",
        "param_grid = {\"sim_options\": sim_options}\n",
        "\n",
        "# Perform GridSearchCV on the entire dataset\n",
        "data = Dataset.load_from_df(ratings[['userId', 'movieId', 'rating']], reader)\n",
        "\n",
        "#cv are the amounts of cross validation.\n",
        "gs = GridSearchCV(KNNWithMeans, param_grid, measures=[\"rmse\"], cv=3)\n",
        "gs.fit(data)\n",
        "\n",
        "# Print the best scores and parameters\n",
        "print(\"Best RMSE score:\", gs.best_score[\"rmse\"])\n",
        "print(\"Best parameters for RMSE:\", gs.best_params[\"rmse\"])\n",
        "\n",
        "# Perform cross-validation on each chunk using the best parameters for RMSE\n",
        "best_sim_options = gs.best_params[\"rmse\"][\"sim_options\"]\n",
        "algo = KNNWithMeans(sim_options=best_sim_options)\n",
        "\n",
        "for i, chunk in enumerate(data_chunks):\n",
        "    print(f\"Cross-validation results for chunk {i+1}:\")\n",
        "    cross_validate(algo, chunk, measures=[\"rmse\"], cv=5, verbose=True)\n",
        "\n",
        "trainset = data.build_full_trainset()\n",
        "algo.fit(trainset)\n",
        "\n",
        "# Save the trained model\n",
        "with open('knn_model.pkl', 'wb') as f:\n",
        "    pickle.dump(algo, f)\n",
        "\n",
        "\n"
      ],
      "metadata": {
        "colab": {
          "base_uri": "https://localhost:8080/"
        },
        "id": "h3NKSB8MEIXw",
        "outputId": "99da1f87-c550-4da4-d6ab-49453a167a7b"
      },
      "execution_count": null,
      "outputs": [
        {
          "output_type": "stream",
          "name": "stdout",
          "text": [
            "Computing the msd similarity matrix...\n",
            "Done computing similarity matrix.\n",
            "Computing the msd similarity matrix...\n",
            "Done computing similarity matrix.\n",
            "Computing the msd similarity matrix...\n",
            "Done computing similarity matrix.\n",
            "Best RMSE score: 0.9026460675064927\n",
            "Best parameters for RMSE: {'sim_options': {'name': 'msd', 'min_support': 2, 'user_based': True}}\n",
            "Cross-validation results for chunk 1:\n",
            "Computing the msd similarity matrix...\n",
            "Done computing similarity matrix.\n",
            "Computing the msd similarity matrix...\n",
            "Done computing similarity matrix.\n",
            "Computing the msd similarity matrix...\n",
            "Done computing similarity matrix.\n",
            "Computing the msd similarity matrix...\n",
            "Done computing similarity matrix.\n",
            "Computing the msd similarity matrix...\n",
            "Done computing similarity matrix.\n",
            "Evaluating RMSE of algorithm KNNWithMeans on 5 split(s).\n",
            "\n",
            "                  Fold 1  Fold 2  Fold 3  Fold 4  Fold 5  Mean    Std     \n",
            "RMSE (testset)    0.9550  0.9713  0.9930  0.9817  0.9569  0.9716  0.0145  \n",
            "Fit time          0.01    0.02    0.02    0.01    0.02    0.01    0.00    \n",
            "Test time         0.11    0.08    0.09    0.08    0.08    0.09    0.01    \n",
            "Cross-validation results for chunk 2:\n",
            "Computing the msd similarity matrix...\n",
            "Done computing similarity matrix.\n",
            "Computing the msd similarity matrix...\n",
            "Done computing similarity matrix.\n",
            "Computing the msd similarity matrix...\n",
            "Done computing similarity matrix.\n",
            "Computing the msd similarity matrix...\n",
            "Done computing similarity matrix.\n",
            "Computing the msd similarity matrix...\n",
            "Done computing similarity matrix.\n",
            "Evaluating RMSE of algorithm KNNWithMeans on 5 split(s).\n",
            "\n",
            "                  Fold 1  Fold 2  Fold 3  Fold 4  Fold 5  Mean    Std     \n",
            "RMSE (testset)    0.9527  0.9448  0.9243  0.9317  0.9518  0.9411  0.0112  \n",
            "Fit time          0.02    0.01    0.02    0.02    0.02    0.02    0.00    \n",
            "Test time         0.08    0.07    0.08    0.08    0.08    0.08    0.00    \n",
            "Cross-validation results for chunk 3:\n",
            "Computing the msd similarity matrix...\n",
            "Done computing similarity matrix.\n",
            "Computing the msd similarity matrix...\n",
            "Done computing similarity matrix.\n",
            "Computing the msd similarity matrix...\n",
            "Done computing similarity matrix.\n",
            "Computing the msd similarity matrix...\n",
            "Done computing similarity matrix.\n",
            "Computing the msd similarity matrix...\n",
            "Done computing similarity matrix.\n",
            "Evaluating RMSE of algorithm KNNWithMeans on 5 split(s).\n",
            "\n",
            "                  Fold 1  Fold 2  Fold 3  Fold 4  Fold 5  Mean    Std     \n",
            "RMSE (testset)    0.9887  0.9830  0.9970  0.9735  0.9597  0.9804  0.0129  \n",
            "Fit time          0.01    0.02    0.01    0.01    0.02    0.01    0.00    \n",
            "Test time         0.08    0.08    0.07    0.07    0.08    0.08    0.00    \n",
            "Cross-validation results for chunk 4:\n",
            "Computing the msd similarity matrix...\n",
            "Done computing similarity matrix.\n",
            "Computing the msd similarity matrix...\n",
            "Done computing similarity matrix.\n",
            "Computing the msd similarity matrix...\n",
            "Done computing similarity matrix.\n",
            "Computing the msd similarity matrix...\n",
            "Done computing similarity matrix.\n",
            "Computing the msd similarity matrix...\n",
            "Done computing similarity matrix.\n",
            "Evaluating RMSE of algorithm KNNWithMeans on 5 split(s).\n",
            "\n",
            "                  Fold 1  Fold 2  Fold 3  Fold 4  Fold 5  Mean    Std     \n",
            "RMSE (testset)    0.9784  0.9655  0.9851  0.9701  0.9882  0.9775  0.0086  \n",
            "Fit time          0.02    0.02    0.01    0.02    0.01    0.02    0.00    \n",
            "Test time         0.07    0.07    0.22    0.08    0.07    0.10    0.06    \n",
            "Cross-validation results for chunk 5:\n",
            "Computing the msd similarity matrix...\n",
            "Done computing similarity matrix.\n",
            "Computing the msd similarity matrix...\n",
            "Done computing similarity matrix.\n",
            "Computing the msd similarity matrix...\n",
            "Done computing similarity matrix.\n",
            "Computing the msd similarity matrix...\n",
            "Done computing similarity matrix.\n",
            "Computing the msd similarity matrix...\n",
            "Done computing similarity matrix.\n",
            "Evaluating RMSE of algorithm KNNWithMeans on 5 split(s).\n",
            "\n",
            "                  Fold 1  Fold 2  Fold 3  Fold 4  Fold 5  Mean    Std     \n",
            "RMSE (testset)    0.9811  0.9683  0.9868  1.0014  0.9738  0.9823  0.0114  \n",
            "Fit time          0.01    0.02    0.01    0.01    0.02    0.02    0.00    \n",
            "Test time         0.06    0.07    0.06    0.06    0.06    0.06    0.00    \n",
            "Computing the msd similarity matrix...\n",
            "Done computing similarity matrix.\n"
          ]
        }
      ]
    },
    {
      "cell_type": "markdown",
      "source": [
        "After saving the model under knn_model.pk1. You can run it by running the cell below"
      ],
      "metadata": {
        "id": "t_X2KlkPi0VN"
      }
    },
    {
      "cell_type": "code",
      "source": [
        "from surprise import Dataset\n",
        "import pickle\n",
        "\n",
        "with open('knn_model.pkl', 'rb') as file:\n",
        "    knn_model = pickle.load(file)\n",
        "\n",
        "# Make predictions\n",
        "prediction = knn_model.predict(1, 596)\n",
        "\n",
        "print(prediction)\n"
      ],
      "metadata": {
        "id": "JdSqjU6Xir1E",
        "colab": {
          "base_uri": "https://localhost:8080/"
        },
        "outputId": "269de046-62e1-466e-80fa-ec6641b26738"
      },
      "execution_count": null,
      "outputs": [
        {
          "output_type": "stream",
          "name": "stdout",
          "text": [
            "user: 1          item: 596        r_ui = None   est = 4.61   {'actual_k': 40, 'was_impossible': False}\n"
          ]
        }
      ]
    },
    {
      "cell_type": "markdown",
      "source": [],
      "metadata": {
        "id": "WgewyverJ62B"
      }
    }
  ]
}